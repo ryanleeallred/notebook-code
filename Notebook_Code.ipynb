{
  "nbformat": 4,
  "nbformat_minor": 0,
  "metadata": {
    "colab": {
      "name": "Notebook_Code.ipynb",
      "provenance": []
    },
    "kernelspec": {
      "name": "python3",
      "display_name": "Python 3"
    }
  },
  "cells": [
    {
      "cell_type": "markdown",
      "metadata": {
        "id": "n2rbKLMV1s0a",
        "colab_type": "text"
      },
      "source": [
        "This is a demo post to show you how to write blog posts with markdown.  I strongly encourage you to [take 5 minutes to learn how to write in markdown](https://markdowntutorial.com/) - it'll teach you how to transform regular text into bold/italics/headings/tables/etc.\n",
        "\n",
        "**Here is some bold text**\n",
        "\n",
        "## Here is a secondary heading\n",
        "\n",
        "Here's a useless table:\n",
        "\n",
        "| Number | Next number | Previous number |\n",
        "| :------ |:--- | :--- |\n",
        "| Five | Six | Four |\n",
        "| Ten | Eleven | Nine |\n",
        "| Seven | Eight | Six |\n",
        "| Two | Three | One |\n",
        "\n",
        "\n",
        "How about a yummy crepe?\n",
        "\n",
        "![Crepe](https://s3-media3.fl.yelpcdn.com/bphoto/cQ1Yoa75m2yUFFbY2xwuqw/348s.jpg)\n",
        "\n",
        "It can also be centered!\n",
        "\n",
        "![Crepe](https://s3-media3.fl.yelpcdn.com/bphoto/cQ1Yoa75m2yUFFbY2xwuqw/348s.jpg){: .mx-auto.d-block :}\n",
        "\n",
        "Here's a code chunk:\n",
        "\n",
        "~~~\n",
        "var foo = function(x) {\n",
        "  return(x + 5);\n",
        "}\n",
        "foo(3)\n",
        "~~~\n",
        "\n",
        "And here is the same code with syntax highlighting:\n",
        "\n",
        "```javascript\n",
        "var foo = function(x) {\n",
        "  return(x + 5);\n",
        "}\n",
        "foo(3)\n",
        "```\n",
        "\n",
        "And here is the same code yet again but with line numbers:\n",
        "\n",
        "{% highlight javascript linenos %}\n",
        "var foo = function(x) {\n",
        "  return(x + 5);\n",
        "}\n",
        "foo(3)\n",
        "{% endhighlight %}\n",
        "\n",
        "## Boxes\n",
        "You can add notification, warning and error boxes like this:\n",
        "\n",
        "### Notification\n",
        "\n",
        "{: .box-note}\n",
        "**Note:** This is a notification box.\n",
        "\n",
        "### Warning\n",
        "\n",
        "{: .box-warning}\n",
        "**Warning:** This is a warning box.\n",
        "\n",
        "### Error\n",
        "\n",
        "{: .box-error}\n",
        "**Error:** This is an error box.\n",
        "\n"
      ]
    },
    {
      "cell_type": "code",
      "metadata": {
        "id": "yIyiPapT1sAN",
        "colab_type": "code",
        "colab": {}
      },
      "source": [
        ""
      ],
      "execution_count": null,
      "outputs": []
    }
  ]
}